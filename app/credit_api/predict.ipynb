{
 "cells": [
  {
   "cell_type": "code",
   "execution_count": 2,
   "metadata": {},
   "outputs": [
    {
     "name": "stdout",
     "output_type": "stream",
     "text": [
      "The autoreload extension is already loaded. To reload it, use:\n",
      "  %reload_ext autoreload\n"
     ]
    }
   ],
   "source": [
    "import pandas as pd\n",
    "import numpy as np\n",
    "import matplotlib.pyplot as plt\n",
    "\n",
    "%load_ext autoreload\n",
    "%autoreload 2\n"
   ]
  },
  {
   "cell_type": "code",
   "execution_count": 3,
   "metadata": {},
   "outputs": [],
   "source": [
    "from flask import Flask, request\n",
    "import mlflow.pyfunc\n",
    "\n",
    "model_path = \"93c9d5110ad34c91ac778aa0c88eb2b4/artifacts/lightgbm\"  # Reemplaza <RUN_ID> con el ID de la ejecución de tu modelo.\n",
    "model = mlflow.pyfunc.load_model(model_path)\n",
    "\n"
   ]
  },
  {
   "cell_type": "code",
   "execution_count": 4,
   "metadata": {},
   "outputs": [],
   "source": [
    "import pandas as pd\n",
    "\n",
    "# Asumiendo que los datos que proporcionaste corresponden a un solo registro\n",
    "data = pd.DataFrame([[\n",
    "    0.23588472, 0., 0., 0., 0.14285714, 0., 0., 0., 0., 1., 0., 1., \n",
    "    0.00197772, 0., 1., 0., 0., 0., 0., 0.5, 0.5, 0., 1., 1., 1., \n",
    "    0., 0.5, 0.4, 0.6875, 0., 0., 0., 0., 0., 0., 0.28723404, 1., \n",
    "    0., 0., 0., 1., 0., 0.\n",
    "]], columns=[f'feature_{i}' for i in range(1, 44)])\n",
    "\n",
    "# print(data)\n"
   ]
  },
  {
   "cell_type": "code",
   "execution_count": 5,
   "metadata": {},
   "outputs": [
    {
     "data": {
      "text/plain": [
       "(1, 43)"
      ]
     },
     "execution_count": 5,
     "metadata": {},
     "output_type": "execute_result"
    }
   ],
   "source": [
    "data.shape"
   ]
  },
  {
   "cell_type": "code",
   "execution_count": 7,
   "metadata": {},
   "outputs": [
    {
     "name": "stderr",
     "output_type": "stream",
     "text": [
      "2023/05/29 21:15:18 WARNING mlflow.pyfunc: Detected one or more mismatches between the model's dependencies and the current Python environment:\n",
      " - mlflow (current: 2.3.2, required: mlflow==2.3)\n",
      "To fix the mismatches, call `mlflow.pyfunc.get_model_dependencies(model_uri)` to fetch the model's environment and install dependencies using the resulting environment file.\n"
     ]
    },
    {
     "name": "stdout",
     "output_type": "stream",
     "text": [
      "[0.36162885]\n"
     ]
    }
   ],
   "source": [
    "import pandas as pd\n",
    "import mlflow.pyfunc\n",
    "\n",
    "# Cargar el modelo\n",
    "model_path = \"mlruns/0/462231ccc18d45f6a4227b9be3d16285/artifacts/lightgbm\"  # Reemplaza <RUN_ID> con el ID de la ejecución de tu modelo.\n",
    "model = mlflow.pyfunc.load_model(model_path)\n",
    "\n",
    "\n",
    "\n",
    "# Realizar una predicción con el modelo\n",
    "prediction = model.predict(data)\n",
    "\n",
    "# Imprimir la predicción\n",
    "print(prediction)"
   ]
  },
  {
   "cell_type": "code",
   "execution_count": 8,
   "metadata": {},
   "outputs": [
    {
     "name": "stdout",
     "output_type": "stream",
     "text": [
      "[0.36162885]\n"
     ]
    }
   ],
   "source": [
    "print(prediction)"
   ]
  }
 ],
 "metadata": {
  "kernelspec": {
   "display_name": "gpu_base",
   "language": "python",
   "name": "python3"
  },
  "language_info": {
   "codemirror_mode": {
    "name": "ipython",
    "version": 3
   },
   "file_extension": ".py",
   "mimetype": "text/x-python",
   "name": "python",
   "nbconvert_exporter": "python",
   "pygments_lexer": "ipython3",
   "version": "3.9.12"
  },
  "orig_nbformat": 4
 },
 "nbformat": 4,
 "nbformat_minor": 2
}

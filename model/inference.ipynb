{
 "cells": [
  {
   "cell_type": "code",
   "execution_count": 1,
   "metadata": {},
   "outputs": [],
   "source": [
    "%%capture\n",
    "\n",
    "# libraries for data manipulation\n",
    "import pandas as pd\n",
    "import numpy as np\n",
    "\n",
    "# libraries for data visualization\n",
    "import matplotlib.pyplot as plt\n",
    "import seaborn as sns\n",
    "import pickle\n",
    "\n",
    "# autoreload modules\n",
    "%load_ext autoreload\n",
    "%autoreload 2\n",
    "\n",
    "\n",
    "# import train_test_split from sklearn\n",
    "from sklearn.model_selection import train_test_split\n",
    "\n",
    "# Libraries for Experiment Tracking\n",
    "import mlflow\n",
    "import IPython.display\n",
    "\n",
    "\n",
    "# Libraries for Model Training and Evaluation\n",
    "from sklearn.metrics import accuracy_score, roc_auc_score, confusion_matrix\n",
    "from sklearn.utils.validation import check_is_fitted\n",
    "\n",
    "# libraries for file management\n",
    "import os\n",
    "import shutil\n",
    "import joblib\n",
    "# \n",
    "# import data_utils\n",
    "\n"
   ]
  },
  {
   "cell_type": "code",
   "execution_count": 52,
   "metadata": {},
   "outputs": [],
   "source": [
    "json_data = {\n",
    "  \"AGE\": 32,\n",
    "  \"APPLICATION_SUBMISSION_TYPE\": \"Web\",\n",
    "  \"CITY_OF_BIRTH\": \"RIO DE JANEIRO\",\n",
    "  \"COMPANY\": \"Y\",\n",
    "  \"FLAG_EMAIL\": 0,\n",
    "  \"FLAG_MASTERCARD\": 1,\n",
    "  \"FLAG_PROFESSIONAL_PHONE\": \"N\",\n",
    "  \"FLAG_RESIDENCIAL_PHONE\": \"Y\",\n",
    "  \"FLAG_VISA\": 0,\n",
    "  \"MARITAL_STATUS\": 3,\n",
    "  \"NACIONALITY\": 1,\n",
    "  \"OCCUPATION_TYPE\": 5,\n",
    "  \"OTHER_INCOMES\": 3,\n",
    "  \"PAYMENT_DAY\": 40,\n",
    "  \"PERSONAL_ASSETS_VALUE\": \"50000\",\n",
    "  \"PERSONAL_MONTHLY_INCOME\": \"60000\",\n",
    "  \"MONTHS_IN_RESIDENCE\": 2,\n",
    "  \"PRODUCT\": 2,\n",
    "  \"PROFESSIONAL_ZIP_3\": 18,\n",
    "  \"PROFESSION_CODE\": 5,\n",
    "  \"QUANT_BANKING_ACCOUNTS\": 1,\n",
    "  \"QUANT_CARS\": 0,\n",
    "  \"QUANT_DEPENDANTS\": 0,\n",
    "  \"QUANT_SPECIAL_BANKING_ACCOUNTS\": 1,\n",
    "  \"RESIDENCE_TYPE\": 1,\n",
    "  \"RESIDENCIAL_BOROUGH\": 1,\n",
    "  \"RESIDENCIAL_CITY\": \"MENDES\",\n",
    "  \"RESIDENCIAL_PHONE_AREA_CODE\": 2,\n",
    "  \"RESIDENCIAL_STATE\": \"RS\",\n",
    "  \"RESIDENCIAL_ZIP_3\": 4,\n",
    "  \"SEX\": \"F\",\n",
    "  \"STATE_OF_BIRTH\": \"RJ\"\n",
    "}"
   ]
  },
  {
   "cell_type": "code",
   "execution_count": 53,
   "metadata": {},
   "outputs": [
    {
     "data": {
      "text/plain": [
       "['MARITAL_STATUS',\n",
       " 'NACIONALITY',\n",
       " 'RESIDENCE_TYPE',\n",
       " 'FLAG_EMAIL',\n",
       " 'FLAG_VISA',\n",
       " 'FLAG_MASTERCARD',\n",
       " 'QUANT_BANKING_ACCOUNTS',\n",
       " 'QUANT_SPECIAL_BANKING_ACCOUNTS',\n",
       " 'QUANT_CARS',\n",
       " 'OCCUPATION_TYPE',\n",
       " 'PRODUCT',\n",
       " 'PROFESSION_CODE',\n",
       " 'APPLICATION_SUBMISSION_TYPE',\n",
       " 'SEX',\n",
       " 'STATE_OF_BIRTH',\n",
       " 'CITY_OF_BIRTH',\n",
       " 'RESIDENCIAL_STATE',\n",
       " 'RESIDENCIAL_CITY',\n",
       " 'RESIDENCIAL_BOROUGH',\n",
       " 'FLAG_RESIDENCIAL_PHONE',\n",
       " 'RESIDENCIAL_PHONE_AREA_CODE',\n",
       " 'COMPANY',\n",
       " 'FLAG_PROFESSIONAL_PHONE',\n",
       " 'RESIDENCIAL_ZIP_3',\n",
       " 'PROFESSIONAL_ZIP_3']"
      ]
     },
     "execution_count": 53,
     "metadata": {},
     "output_type": "execute_result"
    }
   ],
   "source": [
    "path = os.path.join(os.getcwd(), \"jobs/encoding_features.pkl\")\n",
    "\n",
    "# Abrimos el archivo en modo lectura binaria ('rb')\n",
    "with open(path, 'rb') as f:\n",
    "    # Cargamos los datos del archivo pickle\n",
    "    encoding_features = pickle.load(f)\n",
    "\n",
    "encoding_features"
   ]
  },
  {
   "cell_type": "code",
   "execution_count": 54,
   "metadata": {},
   "outputs": [],
   "source": [
    "def convert_payment_day(df):\n",
    "    # Creamos las nuevas columnas\n",
    "    for i in range(5, 30, 5):\n",
    "        df[f'PAYMENT_DAY_{i}'] = df['PAYMENT_DAY'].apply(lambda x: 1 if i-5 < x <= i else 0)\n",
    "    \n",
    "    # Agregamos los valores más altos a la columna PAYMENT_DAY_25\n",
    "    df['PAYMENT_DAY_25'] = df['PAYMENT_DAY'].apply(lambda x: 1 if x >= 25 else 0)\n",
    "\n",
    "    # Eliminamos la columna original\n",
    "    df.drop(columns=['PAYMENT_DAY'], inplace=True)\n",
    "    \n",
    "    return df\n",
    "\n",
    "\n",
    "def convert_age(df):\n",
    "    # Define los rangos de edades que quieres usar\n",
    "    age_ranges = [(0, 18), (19, 30), (31, 50), (51, 70), (71, 100)]\n",
    "    \n",
    "    for i, age_range in enumerate(age_ranges):\n",
    "        min_age, max_age = age_range\n",
    "        # Crea una nueva columna para cada rango de edad\n",
    "        df[f'AGE_RANGE_{min_age}_{max_age}'] = df['AGE'].apply(lambda x: 1 if min_age <= x <= max_age else 0)\n",
    "    \n",
    "    # Elimina la columna original de 'AGE'\n",
    "    df.drop(columns=['AGE'], inplace=True)\n",
    "    \n",
    "    return df\n",
    "\n"
   ]
  },
  {
   "cell_type": "code",
   "execution_count": 55,
   "metadata": {},
   "outputs": [],
   "source": [
    "# json to dataframe\n",
    "df = pd.DataFrame.from_dict(json_data, orient='index', columns=['Value'])"
   ]
  },
  {
   "cell_type": "code",
   "execution_count": 56,
   "metadata": {},
   "outputs": [],
   "source": [
    "df = df.T"
   ]
  },
  {
   "cell_type": "code",
   "execution_count": 57,
   "metadata": {},
   "outputs": [
    {
     "data": {
      "text/html": [
       "<div>\n",
       "<style scoped>\n",
       "    .dataframe tbody tr th:only-of-type {\n",
       "        vertical-align: middle;\n",
       "    }\n",
       "\n",
       "    .dataframe tbody tr th {\n",
       "        vertical-align: top;\n",
       "    }\n",
       "\n",
       "    .dataframe thead th {\n",
       "        text-align: right;\n",
       "    }\n",
       "</style>\n",
       "<table border=\"1\" class=\"dataframe\">\n",
       "  <thead>\n",
       "    <tr style=\"text-align: right;\">\n",
       "      <th></th>\n",
       "      <th>AGE</th>\n",
       "      <th>APPLICATION_SUBMISSION_TYPE</th>\n",
       "      <th>CITY_OF_BIRTH</th>\n",
       "      <th>COMPANY</th>\n",
       "      <th>FLAG_EMAIL</th>\n",
       "      <th>FLAG_MASTERCARD</th>\n",
       "      <th>FLAG_PROFESSIONAL_PHONE</th>\n",
       "      <th>FLAG_RESIDENCIAL_PHONE</th>\n",
       "      <th>FLAG_VISA</th>\n",
       "      <th>MARITAL_STATUS</th>\n",
       "      <th>...</th>\n",
       "      <th>QUANT_DEPENDANTS</th>\n",
       "      <th>QUANT_SPECIAL_BANKING_ACCOUNTS</th>\n",
       "      <th>RESIDENCE_TYPE</th>\n",
       "      <th>RESIDENCIAL_BOROUGH</th>\n",
       "      <th>RESIDENCIAL_CITY</th>\n",
       "      <th>RESIDENCIAL_PHONE_AREA_CODE</th>\n",
       "      <th>RESIDENCIAL_STATE</th>\n",
       "      <th>RESIDENCIAL_ZIP_3</th>\n",
       "      <th>SEX</th>\n",
       "      <th>STATE_OF_BIRTH</th>\n",
       "    </tr>\n",
       "  </thead>\n",
       "  <tbody>\n",
       "    <tr>\n",
       "      <th>Value</th>\n",
       "      <td>32</td>\n",
       "      <td>Web</td>\n",
       "      <td>RIO DE JANEIRO</td>\n",
       "      <td>Y</td>\n",
       "      <td>0</td>\n",
       "      <td>1</td>\n",
       "      <td>N</td>\n",
       "      <td>Y</td>\n",
       "      <td>0</td>\n",
       "      <td>3</td>\n",
       "      <td>...</td>\n",
       "      <td>0</td>\n",
       "      <td>1</td>\n",
       "      <td>1</td>\n",
       "      <td>1</td>\n",
       "      <td>MENDES</td>\n",
       "      <td>2</td>\n",
       "      <td>RS</td>\n",
       "      <td>4</td>\n",
       "      <td>F</td>\n",
       "      <td>RJ</td>\n",
       "    </tr>\n",
       "  </tbody>\n",
       "</table>\n",
       "<p>1 rows × 32 columns</p>\n",
       "</div>"
      ],
      "text/plain": [
       "      AGE APPLICATION_SUBMISSION_TYPE   CITY_OF_BIRTH COMPANY FLAG_EMAIL  \\\n",
       "Value  32                         Web  RIO DE JANEIRO       Y          0   \n",
       "\n",
       "      FLAG_MASTERCARD FLAG_PROFESSIONAL_PHONE FLAG_RESIDENCIAL_PHONE  \\\n",
       "Value               1                       N                      Y   \n",
       "\n",
       "      FLAG_VISA MARITAL_STATUS  ... QUANT_DEPENDANTS  \\\n",
       "Value         0              3  ...                0   \n",
       "\n",
       "      QUANT_SPECIAL_BANKING_ACCOUNTS RESIDENCE_TYPE RESIDENCIAL_BOROUGH  \\\n",
       "Value                              1              1                   1   \n",
       "\n",
       "      RESIDENCIAL_CITY RESIDENCIAL_PHONE_AREA_CODE RESIDENCIAL_STATE  \\\n",
       "Value           MENDES                           2                RS   \n",
       "\n",
       "      RESIDENCIAL_ZIP_3 SEX STATE_OF_BIRTH  \n",
       "Value                 4   F             RJ  \n",
       "\n",
       "[1 rows x 32 columns]"
      ]
     },
     "execution_count": 57,
     "metadata": {},
     "output_type": "execute_result"
    }
   ],
   "source": [
    "df"
   ]
  },
  {
   "cell_type": "code",
   "execution_count": 58,
   "metadata": {},
   "outputs": [
    {
     "data": {
      "text/plain": [
       "['PAYMENT_DAY',\n",
       " 'APPLICATION_SUBMISSION_TYPE',\n",
       " 'SEX',\n",
       " 'MARITAL_STATUS',\n",
       " 'QUANT_DEPENDANTS',\n",
       " 'STATE_OF_BIRTH',\n",
       " 'CITY_OF_BIRTH',\n",
       " 'NACIONALITY',\n",
       " 'RESIDENCIAL_STATE',\n",
       " 'RESIDENCIAL_CITY',\n",
       " 'RESIDENCIAL_BOROUGH',\n",
       " 'FLAG_RESIDENCIAL_PHONE',\n",
       " 'RESIDENCIAL_PHONE_AREA_CODE',\n",
       " 'RESIDENCE_TYPE',\n",
       " 'MONTHS_IN_RESIDENCE',\n",
       " 'FLAG_EMAIL',\n",
       " 'PERSONAL_MONTHLY_INCOME',\n",
       " 'OTHER_INCOMES',\n",
       " 'FLAG_VISA',\n",
       " 'FLAG_MASTERCARD',\n",
       " 'QUANT_BANKING_ACCOUNTS',\n",
       " 'QUANT_SPECIAL_BANKING_ACCOUNTS',\n",
       " 'PERSONAL_ASSETS_VALUE',\n",
       " 'QUANT_CARS',\n",
       " 'COMPANY',\n",
       " 'FLAG_PROFESSIONAL_PHONE',\n",
       " 'PROFESSION_CODE',\n",
       " 'OCCUPATION_TYPE',\n",
       " 'PRODUCT',\n",
       " 'AGE',\n",
       " 'RESIDENCIAL_ZIP_3',\n",
       " 'PROFESSIONAL_ZIP_3']"
      ]
     },
     "execution_count": 58,
     "metadata": {},
     "output_type": "execute_result"
    }
   ],
   "source": [
    "path = os.path.join(os.getcwd(), \"jobs/start_columns.pkl\")\n",
    "\n",
    "# Abrimos el archivo en modo lectura binaria ('rb')\n",
    "with open(path, 'rb') as f:\n",
    "    # Cargamos los datos del archivo pickle\n",
    "    start_columns = pickle.load(f)\n",
    "\n",
    "start_columns"
   ]
  },
  {
   "cell_type": "code",
   "execution_count": 59,
   "metadata": {},
   "outputs": [],
   "source": [
    "# ordena las columnas de df en funcion de start_columns\n",
    "df = df[start_columns]"
   ]
  },
  {
   "cell_type": "code",
   "execution_count": 60,
   "metadata": {},
   "outputs": [
    {
     "data": {
      "text/html": [
       "<div>\n",
       "<style scoped>\n",
       "    .dataframe tbody tr th:only-of-type {\n",
       "        vertical-align: middle;\n",
       "    }\n",
       "\n",
       "    .dataframe tbody tr th {\n",
       "        vertical-align: top;\n",
       "    }\n",
       "\n",
       "    .dataframe thead th {\n",
       "        text-align: right;\n",
       "    }\n",
       "</style>\n",
       "<table border=\"1\" class=\"dataframe\">\n",
       "  <thead>\n",
       "    <tr style=\"text-align: right;\">\n",
       "      <th></th>\n",
       "      <th>PAYMENT_DAY</th>\n",
       "      <th>APPLICATION_SUBMISSION_TYPE</th>\n",
       "      <th>SEX</th>\n",
       "      <th>MARITAL_STATUS</th>\n",
       "      <th>QUANT_DEPENDANTS</th>\n",
       "      <th>STATE_OF_BIRTH</th>\n",
       "      <th>CITY_OF_BIRTH</th>\n",
       "      <th>NACIONALITY</th>\n",
       "      <th>RESIDENCIAL_STATE</th>\n",
       "      <th>RESIDENCIAL_CITY</th>\n",
       "      <th>...</th>\n",
       "      <th>PERSONAL_ASSETS_VALUE</th>\n",
       "      <th>QUANT_CARS</th>\n",
       "      <th>COMPANY</th>\n",
       "      <th>FLAG_PROFESSIONAL_PHONE</th>\n",
       "      <th>PROFESSION_CODE</th>\n",
       "      <th>OCCUPATION_TYPE</th>\n",
       "      <th>PRODUCT</th>\n",
       "      <th>AGE</th>\n",
       "      <th>RESIDENCIAL_ZIP_3</th>\n",
       "      <th>PROFESSIONAL_ZIP_3</th>\n",
       "    </tr>\n",
       "  </thead>\n",
       "  <tbody>\n",
       "    <tr>\n",
       "      <th>Value</th>\n",
       "      <td>40</td>\n",
       "      <td>Web</td>\n",
       "      <td>F</td>\n",
       "      <td>3</td>\n",
       "      <td>0</td>\n",
       "      <td>RJ</td>\n",
       "      <td>RIO DE JANEIRO</td>\n",
       "      <td>1</td>\n",
       "      <td>RS</td>\n",
       "      <td>MENDES</td>\n",
       "      <td>...</td>\n",
       "      <td>50000</td>\n",
       "      <td>0</td>\n",
       "      <td>Y</td>\n",
       "      <td>N</td>\n",
       "      <td>5</td>\n",
       "      <td>5</td>\n",
       "      <td>2</td>\n",
       "      <td>32</td>\n",
       "      <td>4</td>\n",
       "      <td>18</td>\n",
       "    </tr>\n",
       "  </tbody>\n",
       "</table>\n",
       "<p>1 rows × 32 columns</p>\n",
       "</div>"
      ],
      "text/plain": [
       "      PAYMENT_DAY APPLICATION_SUBMISSION_TYPE SEX MARITAL_STATUS  \\\n",
       "Value          40                         Web   F              3   \n",
       "\n",
       "      QUANT_DEPENDANTS STATE_OF_BIRTH   CITY_OF_BIRTH NACIONALITY  \\\n",
       "Value                0             RJ  RIO DE JANEIRO           1   \n",
       "\n",
       "      RESIDENCIAL_STATE RESIDENCIAL_CITY  ... PERSONAL_ASSETS_VALUE  \\\n",
       "Value                RS           MENDES  ...                 50000   \n",
       "\n",
       "      QUANT_CARS COMPANY FLAG_PROFESSIONAL_PHONE PROFESSION_CODE  \\\n",
       "Value          0       Y                       N               5   \n",
       "\n",
       "      OCCUPATION_TYPE PRODUCT AGE RESIDENCIAL_ZIP_3 PROFESSIONAL_ZIP_3  \n",
       "Value               5       2  32                 4                 18  \n",
       "\n",
       "[1 rows x 32 columns]"
      ]
     },
     "execution_count": 60,
     "metadata": {},
     "output_type": "execute_result"
    }
   ],
   "source": [
    "df"
   ]
  },
  {
   "cell_type": "code",
   "execution_count": 52,
   "metadata": {},
   "outputs": [
    {
     "data": {
      "text/html": [
       "<div>\n",
       "<style scoped>\n",
       "    .dataframe tbody tr th:only-of-type {\n",
       "        vertical-align: middle;\n",
       "    }\n",
       "\n",
       "    .dataframe tbody tr th {\n",
       "        vertical-align: top;\n",
       "    }\n",
       "\n",
       "    .dataframe thead th {\n",
       "        text-align: right;\n",
       "    }\n",
       "</style>\n",
       "<table border=\"1\" class=\"dataframe\">\n",
       "  <thead>\n",
       "    <tr style=\"text-align: right;\">\n",
       "      <th></th>\n",
       "      <th>PAYMENT_DAY</th>\n",
       "      <th>APPLICATION_SUBMISSION_TYPE</th>\n",
       "      <th>SEX</th>\n",
       "      <th>MARITAL_STATUS</th>\n",
       "      <th>QUANT_DEPENDANTS</th>\n",
       "      <th>STATE_OF_BIRTH</th>\n",
       "      <th>CITY_OF_BIRTH</th>\n",
       "      <th>NACIONALITY</th>\n",
       "      <th>RESIDENCIAL_STATE</th>\n",
       "      <th>RESIDENCIAL_CITY</th>\n",
       "      <th>...</th>\n",
       "      <th>PERSONAL_ASSETS_VALUE</th>\n",
       "      <th>QUANT_CARS</th>\n",
       "      <th>COMPANY</th>\n",
       "      <th>FLAG_PROFESSIONAL_PHONE</th>\n",
       "      <th>PROFESSION_CODE</th>\n",
       "      <th>OCCUPATION_TYPE</th>\n",
       "      <th>PRODUCT</th>\n",
       "      <th>AGE</th>\n",
       "      <th>RESIDENCIAL_ZIP_3</th>\n",
       "      <th>PROFESSIONAL_ZIP_3</th>\n",
       "    </tr>\n",
       "  </thead>\n",
       "  <tbody>\n",
       "    <tr>\n",
       "      <th>Value</th>\n",
       "      <td>40</td>\n",
       "      <td>Web</td>\n",
       "      <td>F</td>\n",
       "      <td>3</td>\n",
       "      <td>0</td>\n",
       "      <td>RJ</td>\n",
       "      <td>RIO DE JANEIRO</td>\n",
       "      <td>1</td>\n",
       "      <td>RS</td>\n",
       "      <td>MENDES</td>\n",
       "      <td>...</td>\n",
       "      <td>50000</td>\n",
       "      <td>0</td>\n",
       "      <td>Y</td>\n",
       "      <td>N</td>\n",
       "      <td>5</td>\n",
       "      <td>5</td>\n",
       "      <td>2</td>\n",
       "      <td>32</td>\n",
       "      <td>4</td>\n",
       "      <td>18</td>\n",
       "    </tr>\n",
       "  </tbody>\n",
       "</table>\n",
       "<p>1 rows × 32 columns</p>\n",
       "</div>"
      ],
      "text/plain": [
       "      PAYMENT_DAY APPLICATION_SUBMISSION_TYPE SEX MARITAL_STATUS  \\\n",
       "Value          40                         Web   F              3   \n",
       "\n",
       "      QUANT_DEPENDANTS STATE_OF_BIRTH   CITY_OF_BIRTH NACIONALITY  \\\n",
       "Value                0             RJ  RIO DE JANEIRO           1   \n",
       "\n",
       "      RESIDENCIAL_STATE RESIDENCIAL_CITY  ... PERSONAL_ASSETS_VALUE  \\\n",
       "Value                RS           MENDES  ...                 50000   \n",
       "\n",
       "      QUANT_CARS COMPANY FLAG_PROFESSIONAL_PHONE PROFESSION_CODE  \\\n",
       "Value          0       Y                       N               5   \n",
       "\n",
       "      OCCUPATION_TYPE PRODUCT AGE RESIDENCIAL_ZIP_3 PROFESSIONAL_ZIP_3  \n",
       "Value               5       2  32                 4                 18  \n",
       "\n",
       "[1 rows x 32 columns]"
      ]
     },
     "execution_count": 52,
     "metadata": {},
     "output_type": "execute_result"
    }
   ],
   "source": [
    "df"
   ]
  },
  {
   "cell_type": "code",
   "execution_count": 61,
   "metadata": {},
   "outputs": [
    {
     "name": "stderr",
     "output_type": "stream",
     "text": [
      "C:\\Users\\crist\\AppData\\Local\\Temp\\ipykernel_10088\\4258368295.py:4: SettingWithCopyWarning: \n",
      "A value is trying to be set on a copy of a slice from a DataFrame.\n",
      "Try using .loc[row_indexer,col_indexer] = value instead\n",
      "\n",
      "See the caveats in the documentation: https://pandas.pydata.org/pandas-docs/stable/user_guide/indexing.html#returning-a-view-versus-a-copy\n",
      "  df[f'PAYMENT_DAY_{i}'] = df['PAYMENT_DAY'].apply(lambda x: 1 if i-5 < x <= i else 0)\n",
      "C:\\Users\\crist\\AppData\\Local\\Temp\\ipykernel_10088\\4258368295.py:4: SettingWithCopyWarning: \n",
      "A value is trying to be set on a copy of a slice from a DataFrame.\n",
      "Try using .loc[row_indexer,col_indexer] = value instead\n",
      "\n",
      "See the caveats in the documentation: https://pandas.pydata.org/pandas-docs/stable/user_guide/indexing.html#returning-a-view-versus-a-copy\n",
      "  df[f'PAYMENT_DAY_{i}'] = df['PAYMENT_DAY'].apply(lambda x: 1 if i-5 < x <= i else 0)\n",
      "C:\\Users\\crist\\AppData\\Local\\Temp\\ipykernel_10088\\4258368295.py:4: SettingWithCopyWarning: \n",
      "A value is trying to be set on a copy of a slice from a DataFrame.\n",
      "Try using .loc[row_indexer,col_indexer] = value instead\n",
      "\n",
      "See the caveats in the documentation: https://pandas.pydata.org/pandas-docs/stable/user_guide/indexing.html#returning-a-view-versus-a-copy\n",
      "  df[f'PAYMENT_DAY_{i}'] = df['PAYMENT_DAY'].apply(lambda x: 1 if i-5 < x <= i else 0)\n",
      "C:\\Users\\crist\\AppData\\Local\\Temp\\ipykernel_10088\\4258368295.py:4: SettingWithCopyWarning: \n",
      "A value is trying to be set on a copy of a slice from a DataFrame.\n",
      "Try using .loc[row_indexer,col_indexer] = value instead\n",
      "\n",
      "See the caveats in the documentation: https://pandas.pydata.org/pandas-docs/stable/user_guide/indexing.html#returning-a-view-versus-a-copy\n",
      "  df[f'PAYMENT_DAY_{i}'] = df['PAYMENT_DAY'].apply(lambda x: 1 if i-5 < x <= i else 0)\n",
      "C:\\Users\\crist\\AppData\\Local\\Temp\\ipykernel_10088\\4258368295.py:4: SettingWithCopyWarning: \n",
      "A value is trying to be set on a copy of a slice from a DataFrame.\n",
      "Try using .loc[row_indexer,col_indexer] = value instead\n",
      "\n",
      "See the caveats in the documentation: https://pandas.pydata.org/pandas-docs/stable/user_guide/indexing.html#returning-a-view-versus-a-copy\n",
      "  df[f'PAYMENT_DAY_{i}'] = df['PAYMENT_DAY'].apply(lambda x: 1 if i-5 < x <= i else 0)\n",
      "C:\\Users\\crist\\AppData\\Local\\Temp\\ipykernel_10088\\4258368295.py:7: SettingWithCopyWarning: \n",
      "A value is trying to be set on a copy of a slice from a DataFrame.\n",
      "Try using .loc[row_indexer,col_indexer] = value instead\n",
      "\n",
      "See the caveats in the documentation: https://pandas.pydata.org/pandas-docs/stable/user_guide/indexing.html#returning-a-view-versus-a-copy\n",
      "  df['PAYMENT_DAY_25'] = df['PAYMENT_DAY'].apply(lambda x: 1 if x >= 25 else 0)\n",
      "C:\\Users\\crist\\AppData\\Local\\Temp\\ipykernel_10088\\4258368295.py:10: SettingWithCopyWarning: \n",
      "A value is trying to be set on a copy of a slice from a DataFrame\n",
      "\n",
      "See the caveats in the documentation: https://pandas.pydata.org/pandas-docs/stable/user_guide/indexing.html#returning-a-view-versus-a-copy\n",
      "  df.drop(columns=['PAYMENT_DAY'], inplace=True)\n"
     ]
    },
    {
     "data": {
      "text/plain": [
       "(1, 36)"
      ]
     },
     "execution_count": 61,
     "metadata": {},
     "output_type": "execute_result"
    }
   ],
   "source": [
    "df = convert_payment_day(df)\n",
    "df.shape"
   ]
  },
  {
   "cell_type": "code",
   "execution_count": 15,
   "metadata": {},
   "outputs": [
    {
     "data": {
      "text/html": [
       "<div>\n",
       "<style scoped>\n",
       "    .dataframe tbody tr th:only-of-type {\n",
       "        vertical-align: middle;\n",
       "    }\n",
       "\n",
       "    .dataframe tbody tr th {\n",
       "        vertical-align: top;\n",
       "    }\n",
       "\n",
       "    .dataframe thead th {\n",
       "        text-align: right;\n",
       "    }\n",
       "</style>\n",
       "<table border=\"1\" class=\"dataframe\">\n",
       "  <thead>\n",
       "    <tr style=\"text-align: right;\">\n",
       "      <th></th>\n",
       "      <th>APPLICATION_SUBMISSION_TYPE</th>\n",
       "      <th>SEX</th>\n",
       "      <th>MARITAL_STATUS</th>\n",
       "      <th>QUANT_DEPENDANTS</th>\n",
       "      <th>STATE_OF_BIRTH</th>\n",
       "      <th>CITY_OF_BIRTH</th>\n",
       "      <th>NACIONALITY</th>\n",
       "      <th>RESIDENCIAL_STATE</th>\n",
       "      <th>RESIDENCIAL_CITY</th>\n",
       "      <th>RESIDENCIAL_BOROUGH</th>\n",
       "      <th>...</th>\n",
       "      <th>OCCUPATION_TYPE</th>\n",
       "      <th>PRODUCT</th>\n",
       "      <th>AGE</th>\n",
       "      <th>RESIDENCIAL_ZIP_3</th>\n",
       "      <th>PROFESSIONAL_ZIP_3</th>\n",
       "      <th>PAYMENT_DAY_5</th>\n",
       "      <th>PAYMENT_DAY_10</th>\n",
       "      <th>PAYMENT_DAY_15</th>\n",
       "      <th>PAYMENT_DAY_20</th>\n",
       "      <th>PAYMENT_DAY_25</th>\n",
       "    </tr>\n",
       "  </thead>\n",
       "  <tbody>\n",
       "    <tr>\n",
       "      <th>Value</th>\n",
       "      <td>Web</td>\n",
       "      <td>F</td>\n",
       "      <td>3</td>\n",
       "      <td>0</td>\n",
       "      <td>RJ</td>\n",
       "      <td>RIO DE JANEIRO</td>\n",
       "      <td>1</td>\n",
       "      <td>RS</td>\n",
       "      <td>MENDES</td>\n",
       "      <td>1</td>\n",
       "      <td>...</td>\n",
       "      <td>5</td>\n",
       "      <td>2</td>\n",
       "      <td>32</td>\n",
       "      <td>4</td>\n",
       "      <td>18</td>\n",
       "      <td>0</td>\n",
       "      <td>0</td>\n",
       "      <td>0</td>\n",
       "      <td>0</td>\n",
       "      <td>1</td>\n",
       "    </tr>\n",
       "  </tbody>\n",
       "</table>\n",
       "<p>1 rows × 36 columns</p>\n",
       "</div>"
      ],
      "text/plain": [
       "      APPLICATION_SUBMISSION_TYPE SEX MARITAL_STATUS QUANT_DEPENDANTS  \\\n",
       "Value                         Web   F              3                0   \n",
       "\n",
       "      STATE_OF_BIRTH   CITY_OF_BIRTH NACIONALITY RESIDENCIAL_STATE  \\\n",
       "Value             RJ  RIO DE JANEIRO           1                RS   \n",
       "\n",
       "      RESIDENCIAL_CITY RESIDENCIAL_BOROUGH  ... OCCUPATION_TYPE PRODUCT AGE  \\\n",
       "Value           MENDES                   1  ...               5       2  32   \n",
       "\n",
       "      RESIDENCIAL_ZIP_3 PROFESSIONAL_ZIP_3 PAYMENT_DAY_5 PAYMENT_DAY_10  \\\n",
       "Value                 4                 18             0              0   \n",
       "\n",
       "      PAYMENT_DAY_15 PAYMENT_DAY_20 PAYMENT_DAY_25  \n",
       "Value              0              0              1  \n",
       "\n",
       "[1 rows x 36 columns]"
      ]
     },
     "execution_count": 15,
     "metadata": {},
     "output_type": "execute_result"
    }
   ],
   "source": [
    "df"
   ]
  },
  {
   "cell_type": "code",
   "execution_count": 62,
   "metadata": {},
   "outputs": [],
   "source": [
    "import copy\n",
    "\n",
    "new_data = copy.deepcopy(df)"
   ]
  },
  {
   "cell_type": "code",
   "execution_count": 63,
   "metadata": {},
   "outputs": [
    {
     "data": {
      "text/plain": [
       "['MARITAL_STATUS',\n",
       " 'NACIONALITY',\n",
       " 'RESIDENCE_TYPE',\n",
       " 'FLAG_EMAIL',\n",
       " 'FLAG_VISA',\n",
       " 'FLAG_MASTERCARD',\n",
       " 'QUANT_BANKING_ACCOUNTS',\n",
       " 'QUANT_SPECIAL_BANKING_ACCOUNTS',\n",
       " 'QUANT_CARS',\n",
       " 'OCCUPATION_TYPE',\n",
       " 'PRODUCT',\n",
       " 'PROFESSION_CODE',\n",
       " 'APPLICATION_SUBMISSION_TYPE',\n",
       " 'SEX',\n",
       " 'STATE_OF_BIRTH',\n",
       " 'CITY_OF_BIRTH',\n",
       " 'RESIDENCIAL_STATE',\n",
       " 'RESIDENCIAL_CITY',\n",
       " 'RESIDENCIAL_BOROUGH',\n",
       " 'FLAG_RESIDENCIAL_PHONE',\n",
       " 'RESIDENCIAL_PHONE_AREA_CODE',\n",
       " 'COMPANY',\n",
       " 'FLAG_PROFESSIONAL_PHONE',\n",
       " 'RESIDENCIAL_ZIP_3',\n",
       " 'PROFESSIONAL_ZIP_3']"
      ]
     },
     "execution_count": 63,
     "metadata": {},
     "output_type": "execute_result"
    }
   ],
   "source": [
    "path = os.path.join(os.getcwd(), \"jobs/encoding_features.pkl\")\n",
    "\n",
    "# Abrimos el archivo en modo lectura binaria ('rb')\n",
    "with open(path, 'rb') as f:\n",
    "    # Cargamos los datos del archivo pickle\n",
    "    encoding_features = pickle.load(f)\n",
    "\n",
    "encoding_features"
   ]
  },
  {
   "cell_type": "code",
   "execution_count": 64,
   "metadata": {},
   "outputs": [],
   "source": [
    "# remove features with lot of classes to perform ohe\n",
    "# encoding_features.remove(\"CITY_OF_BIRTH\")\n",
    "# encoding_features.remove(\"RESIDENCIAL_CITY\")\n",
    "# encoding_features.remove(\"RESIDENCIAL_BOROUGH\")\n",
    "\n",
    "list_dorp = [\"CITY_OF_BIRTH\", \"RESIDENCIAL_CITY\", \"RESIDENCIAL_BOROUGH\"]\n",
    "\n",
    "new_data.drop(columns=list_dorp, inplace=True)"
   ]
  },
  {
   "cell_type": "code",
   "execution_count": 65,
   "metadata": {},
   "outputs": [
    {
     "data": {
      "text/html": [
       "<style>#sk-container-id-2 {color: black;background-color: white;}#sk-container-id-2 pre{padding: 0;}#sk-container-id-2 div.sk-toggleable {background-color: white;}#sk-container-id-2 label.sk-toggleable__label {cursor: pointer;display: block;width: 100%;margin-bottom: 0;padding: 0.3em;box-sizing: border-box;text-align: center;}#sk-container-id-2 label.sk-toggleable__label-arrow:before {content: \"▸\";float: left;margin-right: 0.25em;color: #696969;}#sk-container-id-2 label.sk-toggleable__label-arrow:hover:before {color: black;}#sk-container-id-2 div.sk-estimator:hover label.sk-toggleable__label-arrow:before {color: black;}#sk-container-id-2 div.sk-toggleable__content {max-height: 0;max-width: 0;overflow: hidden;text-align: left;background-color: #f0f8ff;}#sk-container-id-2 div.sk-toggleable__content pre {margin: 0.2em;color: black;border-radius: 0.25em;background-color: #f0f8ff;}#sk-container-id-2 input.sk-toggleable__control:checked~div.sk-toggleable__content {max-height: 200px;max-width: 100%;overflow: auto;}#sk-container-id-2 input.sk-toggleable__control:checked~label.sk-toggleable__label-arrow:before {content: \"▾\";}#sk-container-id-2 div.sk-estimator input.sk-toggleable__control:checked~label.sk-toggleable__label {background-color: #d4ebff;}#sk-container-id-2 div.sk-label input.sk-toggleable__control:checked~label.sk-toggleable__label {background-color: #d4ebff;}#sk-container-id-2 input.sk-hidden--visually {border: 0;clip: rect(1px 1px 1px 1px);clip: rect(1px, 1px, 1px, 1px);height: 1px;margin: -1px;overflow: hidden;padding: 0;position: absolute;width: 1px;}#sk-container-id-2 div.sk-estimator {font-family: monospace;background-color: #f0f8ff;border: 1px dotted black;border-radius: 0.25em;box-sizing: border-box;margin-bottom: 0.5em;}#sk-container-id-2 div.sk-estimator:hover {background-color: #d4ebff;}#sk-container-id-2 div.sk-parallel-item::after {content: \"\";width: 100%;border-bottom: 1px solid gray;flex-grow: 1;}#sk-container-id-2 div.sk-label:hover label.sk-toggleable__label {background-color: #d4ebff;}#sk-container-id-2 div.sk-serial::before {content: \"\";position: absolute;border-left: 1px solid gray;box-sizing: border-box;top: 0;bottom: 0;left: 50%;z-index: 0;}#sk-container-id-2 div.sk-serial {display: flex;flex-direction: column;align-items: center;background-color: white;padding-right: 0.2em;padding-left: 0.2em;position: relative;}#sk-container-id-2 div.sk-item {position: relative;z-index: 1;}#sk-container-id-2 div.sk-parallel {display: flex;align-items: stretch;justify-content: center;background-color: white;position: relative;}#sk-container-id-2 div.sk-item::before, #sk-container-id-2 div.sk-parallel-item::before {content: \"\";position: absolute;border-left: 1px solid gray;box-sizing: border-box;top: 0;bottom: 0;left: 50%;z-index: -1;}#sk-container-id-2 div.sk-parallel-item {display: flex;flex-direction: column;z-index: 1;position: relative;background-color: white;}#sk-container-id-2 div.sk-parallel-item:first-child::after {align-self: flex-end;width: 50%;}#sk-container-id-2 div.sk-parallel-item:last-child::after {align-self: flex-start;width: 50%;}#sk-container-id-2 div.sk-parallel-item:only-child::after {width: 0;}#sk-container-id-2 div.sk-dashed-wrapped {border: 1px dashed gray;margin: 0 0.4em 0.5em 0.4em;box-sizing: border-box;padding-bottom: 0.4em;background-color: white;}#sk-container-id-2 div.sk-label label {font-family: monospace;font-weight: bold;display: inline-block;line-height: 1.2em;}#sk-container-id-2 div.sk-label-container {text-align: center;}#sk-container-id-2 div.sk-container {/* jupyter's `normalize.less` sets `[hidden] { display: none; }` but bootstrap.min.css set `[hidden] { display: none !important; }` so we also need the `!important` here to be able to override the default hidden behavior on the sphinx rendered scikit-learn.org. See: https://github.com/scikit-learn/scikit-learn/issues/21755 */display: inline-block !important;position: relative;}#sk-container-id-2 div.sk-text-repr-fallback {display: none;}</style><div id=\"sk-container-id-2\" class=\"sk-top-container\"><div class=\"sk-text-repr-fallback\"><pre>OneHotEncoder(drop=&#x27;first&#x27;, dtype=&lt;class &#x27;int&#x27;&gt;, handle_unknown=&#x27;ignore&#x27;,\n",
       "              sparse_output=False)</pre><b>In a Jupyter environment, please rerun this cell to show the HTML representation or trust the notebook. <br />On GitHub, the HTML representation is unable to render, please try loading this page with nbviewer.org.</b></div><div class=\"sk-container\" hidden><div class=\"sk-item\"><div class=\"sk-estimator sk-toggleable\"><input class=\"sk-toggleable__control sk-hidden--visually\" id=\"sk-estimator-id-2\" type=\"checkbox\" checked><label for=\"sk-estimator-id-2\" class=\"sk-toggleable__label sk-toggleable__label-arrow\">OneHotEncoder</label><div class=\"sk-toggleable__content\"><pre>OneHotEncoder(drop=&#x27;first&#x27;, dtype=&lt;class &#x27;int&#x27;&gt;, handle_unknown=&#x27;ignore&#x27;,\n",
       "              sparse_output=False)</pre></div></div></div></div></div>"
      ],
      "text/plain": [
       "OneHotEncoder(drop='first', dtype=<class 'int'>, handle_unknown='ignore',\n",
       "              sparse_output=False)"
      ]
     },
     "execution_count": 65,
     "metadata": {},
     "output_type": "execute_result"
    }
   ],
   "source": [
    "path = os.path.join(os.getcwd(), \"jobs/ohe_fitted.pkl\")\n",
    "\n",
    "# Abrimos el archivo en modo lectura binaria ('rb')\n",
    "with open(path, 'rb') as f:\n",
    "    # Cargamos los datos del archivo pickle\n",
    "    ohe_fitted = pickle.load(f)\n",
    "\n",
    "ohe_fitted"
   ]
  },
  {
   "cell_type": "code",
   "execution_count": 66,
   "metadata": {},
   "outputs": [
    {
     "data": {
      "text/plain": [
       "array(['MARITAL_STATUS', 'NACIONALITY', 'RESIDENCE_TYPE', 'FLAG_EMAIL',\n",
       "       'FLAG_VISA', 'FLAG_MASTERCARD', 'QUANT_BANKING_ACCOUNTS',\n",
       "       'QUANT_SPECIAL_BANKING_ACCOUNTS', 'QUANT_CARS', 'OCCUPATION_TYPE',\n",
       "       'PRODUCT', 'PROFESSION_CODE', 'APPLICATION_SUBMISSION_TYPE', 'SEX',\n",
       "       'STATE_OF_BIRTH', 'RESIDENCIAL_STATE', 'FLAG_RESIDENCIAL_PHONE',\n",
       "       'RESIDENCIAL_PHONE_AREA_CODE', 'COMPANY',\n",
       "       'FLAG_PROFESSIONAL_PHONE', 'RESIDENCIAL_ZIP_3',\n",
       "       'PROFESSIONAL_ZIP_3'], dtype=object)"
      ]
     },
     "execution_count": 66,
     "metadata": {},
     "output_type": "execute_result"
    }
   ],
   "source": [
    "features_in_ohe = ohe_fitted.feature_names_in_\n",
    "features_in_ohe"
   ]
  },
  {
   "cell_type": "code",
   "execution_count": 67,
   "metadata": {},
   "outputs": [
    {
     "data": {
      "text/plain": [
       "22"
      ]
     },
     "execution_count": 67,
     "metadata": {},
     "output_type": "execute_result"
    }
   ],
   "source": [
    "len(features_in_ohe)"
   ]
  },
  {
   "cell_type": "code",
   "execution_count": 68,
   "metadata": {},
   "outputs": [],
   "source": [
    "list_dorp = [\"PAYMENT_DAY_5\", \"PAYMENT_DAY_10\", \"PAYMENT_DAY_15\", \"PAYMENT_DAY_20\", \"PAYMENT_DAY_25\"]\n",
    "\n",
    "new_data.drop(columns=list_dorp, inplace=True)"
   ]
  },
  {
   "cell_type": "code",
   "execution_count": 69,
   "metadata": {},
   "outputs": [
    {
     "name": "stdout",
     "output_type": "stream",
     "text": [
      "['APPLICATION_SUBMISSION_TYPE', 'SEX', 'MARITAL_STATUS', 'QUANT_DEPENDANTS', 'STATE_OF_BIRTH', 'NACIONALITY', 'RESIDENCIAL_STATE', 'FLAG_RESIDENCIAL_PHONE', 'RESIDENCIAL_PHONE_AREA_CODE', 'RESIDENCE_TYPE', 'MONTHS_IN_RESIDENCE', 'FLAG_EMAIL', 'PERSONAL_MONTHLY_INCOME', 'OTHER_INCOMES', 'FLAG_VISA', 'FLAG_MASTERCARD', 'QUANT_BANKING_ACCOUNTS', 'QUANT_SPECIAL_BANKING_ACCOUNTS', 'PERSONAL_ASSETS_VALUE', 'QUANT_CARS', 'COMPANY', 'FLAG_PROFESSIONAL_PHONE', 'PROFESSION_CODE', 'OCCUPATION_TYPE', 'PRODUCT', 'AGE', 'RESIDENCIAL_ZIP_3', 'PROFESSIONAL_ZIP_3']\n"
     ]
    }
   ],
   "source": [
    "features_in_new_data = new_data.columns.tolist()\n",
    "print(features_in_new_data)"
   ]
  },
  {
   "cell_type": "code",
   "execution_count": 70,
   "metadata": {},
   "outputs": [
    {
     "data": {
      "text/plain": [
       "28"
      ]
     },
     "execution_count": 70,
     "metadata": {},
     "output_type": "execute_result"
    }
   ],
   "source": [
    "len(features_in_new_data)"
   ]
  },
  {
   "cell_type": "code",
   "execution_count": 71,
   "metadata": {},
   "outputs": [],
   "source": [
    "a =set(features_in_new_data) - set(features_in_ohe)\n",
    "\n",
    "new_data= new_data.drop(columns=a, axis=1)"
   ]
  },
  {
   "cell_type": "code",
   "execution_count": 73,
   "metadata": {},
   "outputs": [],
   "source": [
    "features_in_ohe = ohe_fitted.feature_names_in_\n",
    "features_in_new_data = new_data.columns.tolist()"
   ]
  },
  {
   "cell_type": "code",
   "execution_count": 74,
   "metadata": {},
   "outputs": [
    {
     "data": {
      "text/plain": [
       "set()"
      ]
     },
     "execution_count": 74,
     "metadata": {},
     "output_type": "execute_result"
    }
   ],
   "source": [
    "set(features_in_new_data) - set(features_in_ohe)"
   ]
  },
  {
   "cell_type": "code",
   "execution_count": 75,
   "metadata": {},
   "outputs": [],
   "source": [
    "assert set(features_in_new_data) == set(features_in_ohe)"
   ]
  },
  {
   "cell_type": "code",
   "execution_count": null,
   "metadata": {},
   "outputs": [],
   "source": [
    "new_data.co"
   ]
  },
  {
   "cell_type": "code",
   "execution_count": 77,
   "metadata": {},
   "outputs": [
    {
     "name": "stderr",
     "output_type": "stream",
     "text": [
      "C:\\Users\\crist\\AppData\\Roaming\\Python\\Python39\\site-packages\\sklearn\\preprocessing\\_encoders.py:202: UserWarning: Found unknown categories in columns [17, 20, 21] during transform. These unknown categories will be encoded as all zeros\n",
      "  warnings.warn(\n"
     ]
    }
   ],
   "source": [
    "ew_encoded = ohe_fitted.transform(new_data[features_in_ohe])"
   ]
  },
  {
   "cell_type": "code",
   "execution_count": 79,
   "metadata": {},
   "outputs": [
    {
     "data": {
      "text/plain": [
       "(1, 1762)"
      ]
     },
     "execution_count": 79,
     "metadata": {},
     "output_type": "execute_result"
    }
   ],
   "source": [
    "ew_encoded.shape"
   ]
  },
  {
   "cell_type": "code",
   "execution_count": 80,
   "metadata": {},
   "outputs": [
    {
     "data": {
      "text/html": [
       "<style>#sk-container-id-3 {color: black;background-color: white;}#sk-container-id-3 pre{padding: 0;}#sk-container-id-3 div.sk-toggleable {background-color: white;}#sk-container-id-3 label.sk-toggleable__label {cursor: pointer;display: block;width: 100%;margin-bottom: 0;padding: 0.3em;box-sizing: border-box;text-align: center;}#sk-container-id-3 label.sk-toggleable__label-arrow:before {content: \"▸\";float: left;margin-right: 0.25em;color: #696969;}#sk-container-id-3 label.sk-toggleable__label-arrow:hover:before {color: black;}#sk-container-id-3 div.sk-estimator:hover label.sk-toggleable__label-arrow:before {color: black;}#sk-container-id-3 div.sk-toggleable__content {max-height: 0;max-width: 0;overflow: hidden;text-align: left;background-color: #f0f8ff;}#sk-container-id-3 div.sk-toggleable__content pre {margin: 0.2em;color: black;border-radius: 0.25em;background-color: #f0f8ff;}#sk-container-id-3 input.sk-toggleable__control:checked~div.sk-toggleable__content {max-height: 200px;max-width: 100%;overflow: auto;}#sk-container-id-3 input.sk-toggleable__control:checked~label.sk-toggleable__label-arrow:before {content: \"▾\";}#sk-container-id-3 div.sk-estimator input.sk-toggleable__control:checked~label.sk-toggleable__label {background-color: #d4ebff;}#sk-container-id-3 div.sk-label input.sk-toggleable__control:checked~label.sk-toggleable__label {background-color: #d4ebff;}#sk-container-id-3 input.sk-hidden--visually {border: 0;clip: rect(1px 1px 1px 1px);clip: rect(1px, 1px, 1px, 1px);height: 1px;margin: -1px;overflow: hidden;padding: 0;position: absolute;width: 1px;}#sk-container-id-3 div.sk-estimator {font-family: monospace;background-color: #f0f8ff;border: 1px dotted black;border-radius: 0.25em;box-sizing: border-box;margin-bottom: 0.5em;}#sk-container-id-3 div.sk-estimator:hover {background-color: #d4ebff;}#sk-container-id-3 div.sk-parallel-item::after {content: \"\";width: 100%;border-bottom: 1px solid gray;flex-grow: 1;}#sk-container-id-3 div.sk-label:hover label.sk-toggleable__label {background-color: #d4ebff;}#sk-container-id-3 div.sk-serial::before {content: \"\";position: absolute;border-left: 1px solid gray;box-sizing: border-box;top: 0;bottom: 0;left: 50%;z-index: 0;}#sk-container-id-3 div.sk-serial {display: flex;flex-direction: column;align-items: center;background-color: white;padding-right: 0.2em;padding-left: 0.2em;position: relative;}#sk-container-id-3 div.sk-item {position: relative;z-index: 1;}#sk-container-id-3 div.sk-parallel {display: flex;align-items: stretch;justify-content: center;background-color: white;position: relative;}#sk-container-id-3 div.sk-item::before, #sk-container-id-3 div.sk-parallel-item::before {content: \"\";position: absolute;border-left: 1px solid gray;box-sizing: border-box;top: 0;bottom: 0;left: 50%;z-index: -1;}#sk-container-id-3 div.sk-parallel-item {display: flex;flex-direction: column;z-index: 1;position: relative;background-color: white;}#sk-container-id-3 div.sk-parallel-item:first-child::after {align-self: flex-end;width: 50%;}#sk-container-id-3 div.sk-parallel-item:last-child::after {align-self: flex-start;width: 50%;}#sk-container-id-3 div.sk-parallel-item:only-child::after {width: 0;}#sk-container-id-3 div.sk-dashed-wrapped {border: 1px dashed gray;margin: 0 0.4em 0.5em 0.4em;box-sizing: border-box;padding-bottom: 0.4em;background-color: white;}#sk-container-id-3 div.sk-label label {font-family: monospace;font-weight: bold;display: inline-block;line-height: 1.2em;}#sk-container-id-3 div.sk-label-container {text-align: center;}#sk-container-id-3 div.sk-container {/* jupyter's `normalize.less` sets `[hidden] { display: none; }` but bootstrap.min.css set `[hidden] { display: none !important; }` so we also need the `!important` here to be able to override the default hidden behavior on the sphinx rendered scikit-learn.org. See: https://github.com/scikit-learn/scikit-learn/issues/21755 */display: inline-block !important;position: relative;}#sk-container-id-3 div.sk-text-repr-fallback {display: none;}</style><div id=\"sk-container-id-3\" class=\"sk-top-container\"><div class=\"sk-text-repr-fallback\"><pre>StandardScaler()</pre><b>In a Jupyter environment, please rerun this cell to show the HTML representation or trust the notebook. <br />On GitHub, the HTML representation is unable to render, please try loading this page with nbviewer.org.</b></div><div class=\"sk-container\" hidden><div class=\"sk-item\"><div class=\"sk-estimator sk-toggleable\"><input class=\"sk-toggleable__control sk-hidden--visually\" id=\"sk-estimator-id-3\" type=\"checkbox\" checked><label for=\"sk-estimator-id-3\" class=\"sk-toggleable__label sk-toggleable__label-arrow\">StandardScaler</label><div class=\"sk-toggleable__content\"><pre>StandardScaler()</pre></div></div></div></div></div>"
      ],
      "text/plain": [
       "StandardScaler()"
      ]
     },
     "execution_count": 80,
     "metadata": {},
     "output_type": "execute_result"
    }
   ],
   "source": [
    "path = os.path.join(os.getcwd(), \"jobs/scaler.pkl\")\n",
    "\n",
    "# Abrimos el archivo en modo lectura binaria ('rb')\n",
    "with open(path, 'rb') as f:\n",
    "    # Cargamos los datos del archivo pickle\n",
    "    scaler = pickle.load(f)\n",
    "\n",
    "scaler"
   ]
  },
  {
   "cell_type": "code",
   "execution_count": 81,
   "metadata": {},
   "outputs": [
    {
     "ename": "AttributeError",
     "evalue": "'numpy.ndarray' object has no attribute 'columns'",
     "output_type": "error",
     "traceback": [
      "\u001b[1;31m---------------------------------------------------------------------------\u001b[0m",
      "\u001b[1;31mAttributeError\u001b[0m                            Traceback (most recent call last)",
      "Cell \u001b[1;32mIn[81], line 1\u001b[0m\n\u001b[1;32m----> 1\u001b[0m ew_encoded\u001b[39m.\u001b[39;49mcolumns\n",
      "\u001b[1;31mAttributeError\u001b[0m: 'numpy.ndarray' object has no attribute 'columns'"
     ]
    }
   ],
   "source": [
    "ew_encoded.columns"
   ]
  },
  {
   "cell_type": "code",
   "execution_count": null,
   "metadata": {},
   "outputs": [
    {
     "data": {
      "text/plain": [
       "(1, 35)"
      ]
     },
     "execution_count": 48,
     "metadata": {},
     "output_type": "execute_result"
    }
   ],
   "source": [
    "new_data.shape"
   ]
  },
  {
   "cell_type": "code",
   "execution_count": null,
   "metadata": {},
   "outputs": [],
   "source": [
    "# importar encoding\n",
    "\n",
    "# remoder --> CITY_OF_BIRTH RESIDENCIAL_CITY RESIDENCIAL_BOROUGH\n",
    "\n"
   ]
  }
 ],
 "metadata": {
  "kernelspec": {
   "display_name": "gpu_base",
   "language": "python",
   "name": "python3"
  },
  "language_info": {
   "codemirror_mode": {
    "name": "ipython",
    "version": 3
   },
   "file_extension": ".py",
   "mimetype": "text/x-python",
   "name": "python",
   "nbconvert_exporter": "python",
   "pygments_lexer": "ipython3",
   "version": "3.9.12"
  },
  "orig_nbformat": 4
 },
 "nbformat": 4,
 "nbformat_minor": 2
}
